{
  "nbformat": 4,
  "nbformat_minor": 0,
  "metadata": {
    "colab": {
      "provenance": [],
      "authorship_tag": "ABX9TyOLAUUJI6A56agnD8a6CSxj",
      "include_colab_link": true
    },
    "kernelspec": {
      "name": "python3",
      "display_name": "Python 3"
    },
    "language_info": {
      "name": "python"
    }
  },
  "cells": [
    {
      "cell_type": "markdown",
      "metadata": {
        "id": "view-in-github",
        "colab_type": "text"
      },
      "source": [
        "<a href=\"https://colab.research.google.com/github/Vishwapandian/AutoTask/blob/main/pdfsummary.ipynb\" target=\"_parent\"><img src=\"https://colab.research.google.com/assets/colab-badge.svg\" alt=\"Open In Colab\"/></a>"
      ]
    },
    {
      "cell_type": "code",
      "source": [
        "pip install openai"
      ],
      "metadata": {
        "colab": {
          "base_uri": "https://localhost:8080/"
        },
        "id": "jYQZWtVrvcXU",
        "outputId": "bfb623a0-8a93-4581-9909-792d799616c8"
      },
      "execution_count": null,
      "outputs": [
        {
          "output_type": "stream",
          "name": "stdout",
          "text": [
            "Collecting openai\n",
            "  Downloading openai-0.28.1-py3-none-any.whl (76 kB)\n",
            "\u001b[?25l     \u001b[90m━━━━━━━━━━━━━━━━━━━━━━━━━━━━━━━━━━━━━━━━\u001b[0m \u001b[32m0.0/77.0 kB\u001b[0m \u001b[31m?\u001b[0m eta \u001b[36m-:--:--\u001b[0m\r\u001b[2K     \u001b[91m━━━━━━━━━━━━━━━━━━━━━━━━━━━━━━━━━━━━━\u001b[0m\u001b[90m╺\u001b[0m\u001b[90m━━\u001b[0m \u001b[32m71.7/77.0 kB\u001b[0m \u001b[31m2.1 MB/s\u001b[0m eta \u001b[36m0:00:01\u001b[0m\r\u001b[2K     \u001b[90m━━━━━━━━━━━━━━━━━━━━━━━━━━━━━━━━━━━━━━━━\u001b[0m \u001b[32m77.0/77.0 kB\u001b[0m \u001b[31m1.7 MB/s\u001b[0m eta \u001b[36m0:00:00\u001b[0m\n",
            "\u001b[?25hRequirement already satisfied: requests>=2.20 in /usr/local/lib/python3.10/dist-packages (from openai) (2.31.0)\n",
            "Requirement already satisfied: tqdm in /usr/local/lib/python3.10/dist-packages (from openai) (4.66.1)\n",
            "Requirement already satisfied: aiohttp in /usr/local/lib/python3.10/dist-packages (from openai) (3.8.6)\n",
            "Requirement already satisfied: charset-normalizer<4,>=2 in /usr/local/lib/python3.10/dist-packages (from requests>=2.20->openai) (3.3.1)\n",
            "Requirement already satisfied: idna<4,>=2.5 in /usr/local/lib/python3.10/dist-packages (from requests>=2.20->openai) (3.4)\n",
            "Requirement already satisfied: urllib3<3,>=1.21.1 in /usr/local/lib/python3.10/dist-packages (from requests>=2.20->openai) (2.0.7)\n",
            "Requirement already satisfied: certifi>=2017.4.17 in /usr/local/lib/python3.10/dist-packages (from requests>=2.20->openai) (2023.7.22)\n",
            "Requirement already satisfied: attrs>=17.3.0 in /usr/local/lib/python3.10/dist-packages (from aiohttp->openai) (23.1.0)\n",
            "Requirement already satisfied: multidict<7.0,>=4.5 in /usr/local/lib/python3.10/dist-packages (from aiohttp->openai) (6.0.4)\n",
            "Requirement already satisfied: async-timeout<5.0,>=4.0.0a3 in /usr/local/lib/python3.10/dist-packages (from aiohttp->openai) (4.0.3)\n",
            "Requirement already satisfied: yarl<2.0,>=1.0 in /usr/local/lib/python3.10/dist-packages (from aiohttp->openai) (1.9.2)\n",
            "Requirement already satisfied: frozenlist>=1.1.1 in /usr/local/lib/python3.10/dist-packages (from aiohttp->openai) (1.4.0)\n",
            "Requirement already satisfied: aiosignal>=1.1.2 in /usr/local/lib/python3.10/dist-packages (from aiohttp->openai) (1.3.1)\n",
            "Installing collected packages: openai\n",
            "\u001b[31mERROR: pip's dependency resolver does not currently take into account all the packages that are installed. This behaviour is the source of the following dependency conflicts.\n",
            "llmx 0.0.15a0 requires cohere, which is not installed.\n",
            "llmx 0.0.15a0 requires tiktoken, which is not installed.\u001b[0m\u001b[31m\n",
            "\u001b[0mSuccessfully installed openai-0.28.1\n"
          ]
        }
      ]
    },
    {
      "cell_type": "code",
      "source": [
        "pip install PyPDF2"
      ],
      "metadata": {
        "colab": {
          "base_uri": "https://localhost:8080/"
        },
        "id": "3kddv4DQyaHp",
        "outputId": "5b1c1e66-e571-4f82-8ecb-b91c58ee289d"
      },
      "execution_count": null,
      "outputs": [
        {
          "output_type": "stream",
          "name": "stdout",
          "text": [
            "Collecting PyPDF2\n",
            "  Downloading pypdf2-3.0.1-py3-none-any.whl (232 kB)\n",
            "\u001b[?25l     \u001b[90m━━━━━━━━━━━━━━━━━━━━━━━━━━━━━━━━━━━━━━━━\u001b[0m \u001b[32m0.0/232.6 kB\u001b[0m \u001b[31m?\u001b[0m eta \u001b[36m-:--:--\u001b[0m\r\u001b[2K     \u001b[91m━━━━━━━━━━━━━━━\u001b[0m\u001b[91m╸\u001b[0m\u001b[90m━━━━━━━━━━━━━━━━━━━━━━━━\u001b[0m \u001b[32m92.2/232.6 kB\u001b[0m \u001b[31m2.8 MB/s\u001b[0m eta \u001b[36m0:00:01\u001b[0m\r\u001b[2K     \u001b[90m━━━━━━━━━━━━━━━━━━━━━━━━━━━━━━━━━━━━━━━━\u001b[0m \u001b[32m232.6/232.6 kB\u001b[0m \u001b[31m4.4 MB/s\u001b[0m eta \u001b[36m0:00:00\u001b[0m\n",
            "\u001b[?25hInstalling collected packages: PyPDF2\n",
            "Successfully installed PyPDF2-3.0.1\n"
          ]
        }
      ]
    },
    {
      "cell_type": "code",
      "source": [
        "# Run if you want to upload a PDF (DO NOT RUN IF NOT UPLOADING TEXT)\n",
        "\n",
        "import PyPDF2\n",
        "\n",
        "# Replace 'your_pdf_file.pdf' with the path to your PDF file\n",
        "pdf_file = 'Project_Assignments_5.pdf'\n",
        "\n",
        "# Open the PDF file in read-binary mode\n",
        "with open(pdf_file, 'rb') as pdf_file:\n",
        "    pdf_reader = PyPDF2.PdfReader(pdf_file)\n",
        "\n",
        "    # Initialize an empty string to store the extracted text\n",
        "    extracted_text = ''\n",
        "    total_tokens = 0\n",
        "\n",
        "    # Loop through each page and extract text\n",
        "    for page_num in range(len(pdf_reader.pages)):\n",
        "        page = pdf_reader.pages[page_num]\n",
        "        page_text = page.extract_text()\n",
        "        tokens_in_page = len(page_text.split())\n",
        "\n",
        "        if total_tokens + tokens_in_page <= 2000:\n",
        "            extracted_text += page_text\n",
        "            total_tokens += tokens_in_page\n",
        "        else:\n",
        "            # If adding the current page exceeds 2000 tokens, break the loop\n",
        "            break\n",
        "\n",
        "# Replace newline characters with space\n",
        "extracted_text = extracted_text.replace('\\n', ' ')\n",
        "\n",
        "# Print or do something with the extracted text\n",
        "print(extracted_text)\n"
      ],
      "metadata": {
        "colab": {
          "base_uri": "https://localhost:8080/"
        },
        "id": "4q__vWpmydJM",
        "outputId": "49bf3d70-ef0b-4226-d04b-c2b2cae2c7b6"
      },
      "execution_count": null,
      "outputs": [
        {
          "output_type": "stream",
          "name": "stdout",
          "text": [
            "Project Assignment 5  Deployment / Final Code   Software Engineering CS/CE/SE 3354   Fall 2023      Instructor  Srimathi Srinivasan   Email Address:   srimathi.srinivasan@utdallas.edu       Purpose   • Understand Deployment Strategies   • Finalize Code   • Execute Test cases     Assignment   Create Deployment Section s  1. Research Deployment Strategies    a. Create a Deployment Plan – should be based on Architecture Design   2. Finalize Code  – You need to give the executable and give instructions to TA as how to run the code.   3. Run Test Cases   a. Execute 20 test cases for functional requirements.  Each team member work on at least 4  testcases   b. Document result s of the test case as part of the Test Case Plan  – Include inputs, expected  outputs and actual outputs.   4. Update SE Presentation PowerPoint and SE Document from Project Assignment 4  a. Update based on feedback from Project Assignment 4  b. Add in Test  Results, Deployment Sections , and Link in Presentation to working code.     Deliverables   1. SE Presentation as PowerPoint file posted on eLearning as “. PPTx” or “.PDF” (only “.PPTx” or “.PDF”) –  Name as follows ( Groupxx_SE_Presentation_Assignment 5 -Fall2023)  2. SE Document as Word or PDF file posted on eLearning as “.docx” or “.PDF” (only “.docx” or “.PDF”) –  Name as follows ( Groupxx_SE_Document_Assignment 5-Fall2023)     \n"
          ]
        }
      ]
    },
    {
      "cell_type": "code",
      "source": [
        "# Run if you want to upload text (DO NOT RUN IF NOT UPLOADING PDF)\n",
        "\n",
        "extracted_text = input()"
      ],
      "metadata": {
        "id": "4pvTZmI5t5Ps"
      },
      "execution_count": null,
      "outputs": []
    },
    {
      "cell_type": "code",
      "execution_count": null,
      "metadata": {
        "colab": {
          "base_uri": "https://localhost:8080/"
        },
        "id": "OplPOVIBtLsk",
        "outputId": "4b5b6c33-bed0-4c3c-f875-d7a6f23ebdcb"
      },
      "outputs": [
        {
          "output_type": "stream",
          "name": "stdout",
          "text": [
            "Select Functionality\n",
            "1: Create Flash Cards\n",
            "2: Create Test Questions\n",
            "3: Create Summary\n",
            "2\n",
            "   Topic Information  https://en.wikipedia.org/wiki/Deployment_(computing)  ○ ○ ○ ○ ○ ○ ○ ○ ○ ○ ○ ○ ○ ○ ○ ○ ○ ○ ○ ○ ○ ○ ○ ○ ○ ○ ○ ○ ○ ○ ○ ○ ○ ○ ○ ○ ○ ○ ○ ○ ○ ○ ○ ○ ○ ○ ○ ○ ○ ○ ○ ○ ○ ○ ○ ○ ○ ○ ○ ○ ○ ○ ○ ○ ○ ○ ○ ○ ○ ○ ○ ○ ○ ○ ○ ○ ○ ○ ○ ○ ○ ○ ○ ○ ○ ○ ○ ○ ○ ○ ○ ○ ○ ○ ○ ○ ○ ○ ○ ○ ○ ○ ○ ○ ○ ○ ○ ○ ○ ○ ○ ○ ○ ○ ○ ○ ○ ○ ○ ○ ○ ○ ○ ○ ○ ○ ○ ○ ○ ○ ○ ○ ○ ○ ○ ○ ○ ○ ○ ○ ○ ○ ○ ○ ○ ○ ○ ○ ○ ○ ○ ○ ○ ○ ○ ○ ○ ○ ○ ○ ○ ○ ○ ○ ○ ○ ○ ○ ○ ○ ○ ○ ○ ○ ○ ○ ○ ○ ○ ○ ○ ○ ○ ○ ○ ○ ○ ○ ○ ○ ○ ○ ○ ○ ○ ○ ○ ○ ○ ○ ○ ○ ○ ○ ○ ○ ○ ○ ○ ○ ○ ○ ○ ○ ○ ○ ○ ○ ○ ○ ○ ○ ○ ○ ○ ○ ○ ○ ○ ○ ○ ○ Travel over 2 week ies advanced , your get. Make secure way\n"
          ]
        }
      ],
      "source": [
        "import openai\n",
        "\n",
        "# TYPE IN YOUR API KEY\n",
        "api_key = 'type in your api key'\n",
        "\n",
        "# Text prompt to send to the GPT-3 model\n",
        "\n",
        "print(\"Select Functionality\")\n",
        "print(\"1: Create Flash Cards\")\n",
        "print(\"2: Create Test Questions\")\n",
        "print(\"3: Create Summary\")\n",
        "input1 = input()\n",
        "\n",
        "action = \"\"\n",
        "\n",
        "if (input == 1):\n",
        "    action = \"Can you create flashcards from the following text:\"\n",
        "elif (input == 2):\n",
        "    action = \"Can you create test questions from the following text:\"\n",
        "elif (input == 3):\n",
        "    action = \"Can you summarize the following text:\"\n",
        "\n",
        "\n",
        "# Text prompt to send to the GPT-3 model\n",
        "prompt = f\"{action} {extracted_text}\"\n",
        "\n",
        "# Call the OpenAI API to generate text\n",
        "response = openai.Completion.create(\n",
        "    engine=\"davinci\",  # You can use other engines like 'text-davinci-002' as well\n",
        "    prompt=prompt,\n",
        "    max_tokens = 500,  # Adjust this as needed\n",
        "    api_key = api_key\n",
        ")\n",
        "\n",
        "# Extract and print the generated text\n",
        "generated_text = response.choices[0].text\n",
        "print(generated_text)"
      ]
    }
  ]
}